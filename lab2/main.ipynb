{
 "cells": [
  {
   "cell_type": "code",
   "execution_count": null,
   "metadata": {},
   "outputs": [],
   "source": [
    "def sum_of_positive_elements(arr):\n",
    "    total = 0\n",
    "    for row in arr:\n",
    "        for element in row:\n",
    "            if element > 0:\n",
    "                total += element\n",
    "    return total\n",
    "\n",
    "my_array = [\n",
    "    [1, -2, 3],\n",
    "    [4, 5, -6],\n",
    "    [-7, 8, 9]\n",
    "]\n",
    "\n",
    "result = sum_of_positive_elements(my_array)\n",
    "print(\"Эерэг элементүүдийн нийлбэр:\", result)\n"
   ]
  }
 ],
 "metadata": {
  "language_info": {
   "name": "python"
  }
 },
 "nbformat": 4,
 "nbformat_minor": 2
}
